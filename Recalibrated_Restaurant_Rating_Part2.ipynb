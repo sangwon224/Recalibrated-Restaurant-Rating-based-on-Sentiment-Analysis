{
 "cells": [
  {
   "cell_type": "markdown",
   "metadata": {},
   "source": [
    "# Recalibrated Restaurant Rating Based On Sentiment Analysis - Part 2"
   ]
  },
  {
   "cell_type": "markdown",
   "metadata": {},
   "source": [
    "<img src=\"https://static1.squarespace.com/static/5b1590a93c3a53e49c6d280d/t/5fd058bf5efba8153b21ad7f/1607489731350/restaurant-reviews-16x9.jpg?format=1500w\" alt=\"Image Alt Text\">\n",
    "\n",
    "## Analysis (continued)\n",
    "### Clustering\n",
    "With the sentiment scores for each text review, we will then try to cluster the reviews based on the sentiment scores to assign recalibrated star rating.\n",
    "\n",
    "Two clustering methods will be used:\n",
    "1. K-Means\n",
    "2. Agglomerative"
   ]
  },
  {
   "cell_type": "code",
   "execution_count": 1,
   "metadata": {},
   "outputs": [],
   "source": [
    "#Import relevant packages\n",
    "import pandas as pd\n",
    "import numpy as np\n",
    "import matplotlib.pyplot as plt\n",
    "import seaborn as sns\n",
    "from sklearn.cluster import KMeans\n",
    "from sklearn.cluster import AgglomerativeClustering\n",
    "from sklearn.preprocessing import StandardScaler\n",
    "from sklearn.metrics import accuracy_score, precision_score, recall_score"
   ]
  },
  {
   "cell_type": "code",
   "execution_count": 2,
   "metadata": {},
   "outputs": [],
   "source": [
    "# Reading dataframe - output from Part 1 notebook; trying to avoid running the Roberta model every time\n",
    "df = pd.read_csv('data/master_df.csv')"
   ]
  },
  {
   "cell_type": "code",
   "execution_count": 3,
   "metadata": {},
   "outputs": [],
   "source": [
    "km = KMeans(n_clusters = 5, random_state=5)"
   ]
  },
  {
   "cell_type": "markdown",
   "metadata": {},
   "source": [
    "#### K-Mean Clustering - Version 1"
   ]
  },
  {
   "cell_type": "code",
   "execution_count": 4,
   "metadata": {
    "scrolled": true
   },
   "outputs": [
    {
     "name": "stderr",
     "output_type": "stream",
     "text": [
      "/Users/Sangwon.Shim/anaconda3/envs/learn-env/lib/python3.8/site-packages/sklearn/cluster/_kmeans.py:1416: FutureWarning: The default value of `n_init` will change from 10 to 'auto' in 1.4. Set the value of `n_init` explicitly to suppress the warning\n",
      "  super()._check_params_vs_input(X, default_n_init=10)\n"
     ]
    },
    {
     "data": {
      "text/html": [
       "<style>#sk-container-id-1 {color: black;}#sk-container-id-1 pre{padding: 0;}#sk-container-id-1 div.sk-toggleable {background-color: white;}#sk-container-id-1 label.sk-toggleable__label {cursor: pointer;display: block;width: 100%;margin-bottom: 0;padding: 0.3em;box-sizing: border-box;text-align: center;}#sk-container-id-1 label.sk-toggleable__label-arrow:before {content: \"▸\";float: left;margin-right: 0.25em;color: #696969;}#sk-container-id-1 label.sk-toggleable__label-arrow:hover:before {color: black;}#sk-container-id-1 div.sk-estimator:hover label.sk-toggleable__label-arrow:before {color: black;}#sk-container-id-1 div.sk-toggleable__content {max-height: 0;max-width: 0;overflow: hidden;text-align: left;background-color: #f0f8ff;}#sk-container-id-1 div.sk-toggleable__content pre {margin: 0.2em;color: black;border-radius: 0.25em;background-color: #f0f8ff;}#sk-container-id-1 input.sk-toggleable__control:checked~div.sk-toggleable__content {max-height: 200px;max-width: 100%;overflow: auto;}#sk-container-id-1 input.sk-toggleable__control:checked~label.sk-toggleable__label-arrow:before {content: \"▾\";}#sk-container-id-1 div.sk-estimator input.sk-toggleable__control:checked~label.sk-toggleable__label {background-color: #d4ebff;}#sk-container-id-1 div.sk-label input.sk-toggleable__control:checked~label.sk-toggleable__label {background-color: #d4ebff;}#sk-container-id-1 input.sk-hidden--visually {border: 0;clip: rect(1px 1px 1px 1px);clip: rect(1px, 1px, 1px, 1px);height: 1px;margin: -1px;overflow: hidden;padding: 0;position: absolute;width: 1px;}#sk-container-id-1 div.sk-estimator {font-family: monospace;background-color: #f0f8ff;border: 1px dotted black;border-radius: 0.25em;box-sizing: border-box;margin-bottom: 0.5em;}#sk-container-id-1 div.sk-estimator:hover {background-color: #d4ebff;}#sk-container-id-1 div.sk-parallel-item::after {content: \"\";width: 100%;border-bottom: 1px solid gray;flex-grow: 1;}#sk-container-id-1 div.sk-label:hover label.sk-toggleable__label {background-color: #d4ebff;}#sk-container-id-1 div.sk-serial::before {content: \"\";position: absolute;border-left: 1px solid gray;box-sizing: border-box;top: 0;bottom: 0;left: 50%;z-index: 0;}#sk-container-id-1 div.sk-serial {display: flex;flex-direction: column;align-items: center;background-color: white;padding-right: 0.2em;padding-left: 0.2em;position: relative;}#sk-container-id-1 div.sk-item {position: relative;z-index: 1;}#sk-container-id-1 div.sk-parallel {display: flex;align-items: stretch;justify-content: center;background-color: white;position: relative;}#sk-container-id-1 div.sk-item::before, #sk-container-id-1 div.sk-parallel-item::before {content: \"\";position: absolute;border-left: 1px solid gray;box-sizing: border-box;top: 0;bottom: 0;left: 50%;z-index: -1;}#sk-container-id-1 div.sk-parallel-item {display: flex;flex-direction: column;z-index: 1;position: relative;background-color: white;}#sk-container-id-1 div.sk-parallel-item:first-child::after {align-self: flex-end;width: 50%;}#sk-container-id-1 div.sk-parallel-item:last-child::after {align-self: flex-start;width: 50%;}#sk-container-id-1 div.sk-parallel-item:only-child::after {width: 0;}#sk-container-id-1 div.sk-dashed-wrapped {border: 1px dashed gray;margin: 0 0.4em 0.5em 0.4em;box-sizing: border-box;padding-bottom: 0.4em;background-color: white;}#sk-container-id-1 div.sk-label label {font-family: monospace;font-weight: bold;display: inline-block;line-height: 1.2em;}#sk-container-id-1 div.sk-label-container {text-align: center;}#sk-container-id-1 div.sk-container {/* jupyter's `normalize.less` sets `[hidden] { display: none; }` but bootstrap.min.css set `[hidden] { display: none !important; }` so we also need the `!important` here to be able to override the default hidden behavior on the sphinx rendered scikit-learn.org. See: https://github.com/scikit-learn/scikit-learn/issues/21755 */display: inline-block !important;position: relative;}#sk-container-id-1 div.sk-text-repr-fallback {display: none;}</style><div id=\"sk-container-id-1\" class=\"sk-top-container\"><div class=\"sk-text-repr-fallback\"><pre>KMeans(n_clusters=5, random_state=5)</pre><b>In a Jupyter environment, please rerun this cell to show the HTML representation or trust the notebook. <br />On GitHub, the HTML representation is unable to render, please try loading this page with nbviewer.org.</b></div><div class=\"sk-container\" hidden><div class=\"sk-item\"><div class=\"sk-estimator sk-toggleable\"><input class=\"sk-toggleable__control sk-hidden--visually\" id=\"sk-estimator-id-1\" type=\"checkbox\" checked><label for=\"sk-estimator-id-1\" class=\"sk-toggleable__label sk-toggleable__label-arrow\">KMeans</label><div class=\"sk-toggleable__content\"><pre>KMeans(n_clusters=5, random_state=5)</pre></div></div></div></div></div>"
      ],
      "text/plain": [
       "KMeans(n_clusters=5, random_state=5)"
      ]
     },
     "execution_count": 4,
     "metadata": {},
     "output_type": "execute_result"
    }
   ],
   "source": [
    "# Skipping scaling of the data as Roberta model output is already on the same scale 0-1\n",
    "km.fit(df[['roberta_neg','roberta_neu','roberta_pos']])"
   ]
  },
  {
   "cell_type": "code",
   "execution_count": 5,
   "metadata": {},
   "outputs": [],
   "source": [
    "df['km_cluster'] = km.labels_"
   ]
  },
  {
   "cell_type": "code",
   "execution_count": 6,
   "metadata": {},
   "outputs": [
    {
     "data": {
      "text/plain": [
       "array([[0.00572318, 0.02753872, 0.9667381 ],\n",
       "       [0.60364954, 0.30573502, 0.09061544],\n",
       "       [0.19034219, 0.52838321, 0.2812746 ],\n",
       "       [0.88076173, 0.10425816, 0.01498011],\n",
       "       [0.06183021, 0.23258002, 0.70558977]])"
      ]
     },
     "execution_count": 6,
     "metadata": {},
     "output_type": "execute_result"
    }
   ],
   "source": [
    "km.cluster_centers_"
   ]
  },
  {
   "cell_type": "markdown",
   "metadata": {},
   "source": [
    "Looks like: \n",
    "- Cluster 0 is 5 star\n",
    "- Cluster 4 is 4 star\n",
    "- Cluster 2 is 3 star\n",
    "- Cluster 1 is 2 star\n",
    "- Cluster 3 is 1 star"
   ]
  },
  {
   "cell_type": "code",
   "execution_count": 7,
   "metadata": {},
   "outputs": [
    {
     "data": {
      "text/plain": [
       "0    1756\n",
       "4      58\n",
       "2      23\n",
       "1       6\n",
       "3       1\n",
       "Name: km_cluster, dtype: int64"
      ]
     },
     "execution_count": 7,
     "metadata": {},
     "output_type": "execute_result"
    }
   ],
   "source": [
    "# New clustering for 5 star reviews\n",
    "df[df['review_rating']==5]['km_cluster'].value_counts()"
   ]
  },
  {
   "cell_type": "code",
   "execution_count": 8,
   "metadata": {},
   "outputs": [
    {
     "data": {
      "text/plain": [
       "0    431\n",
       "4     73\n",
       "2     24\n",
       "1     24\n",
       "3      6\n",
       "Name: km_cluster, dtype: int64"
      ]
     },
     "execution_count": 8,
     "metadata": {},
     "output_type": "execute_result"
    }
   ],
   "source": [
    "# New clustering for 4 star reviews\n",
    "df[df['review_rating']==4]['km_cluster'].value_counts()"
   ]
  },
  {
   "cell_type": "code",
   "execution_count": 9,
   "metadata": {},
   "outputs": [
    {
     "data": {
      "text/plain": [
       "0    44\n",
       "4    43\n",
       "3    43\n",
       "1    39\n",
       "2    30\n",
       "Name: km_cluster, dtype: int64"
      ]
     },
     "execution_count": 9,
     "metadata": {},
     "output_type": "execute_result"
    }
   ],
   "source": [
    "# New clustering for 3 star reviews\n",
    "df[df['review_rating']==3]['km_cluster'].value_counts()"
   ]
  },
  {
   "cell_type": "code",
   "execution_count": 10,
   "metadata": {},
   "outputs": [
    {
     "data": {
      "text/plain": [
       "3    59\n",
       "1    22\n",
       "2    10\n",
       "4     9\n",
       "0     1\n",
       "Name: km_cluster, dtype: int64"
      ]
     },
     "execution_count": 10,
     "metadata": {},
     "output_type": "execute_result"
    }
   ],
   "source": [
    "# New clustering for 2 star reviews\n",
    "df[df['review_rating']==2]['km_cluster'].value_counts()"
   ]
  },
  {
   "cell_type": "code",
   "execution_count": 11,
   "metadata": {},
   "outputs": [
    {
     "data": {
      "text/plain": [
       "3    154\n",
       "1     27\n",
       "2      8\n",
       "4      5\n",
       "0      2\n",
       "Name: km_cluster, dtype: int64"
      ]
     },
     "execution_count": 11,
     "metadata": {},
     "output_type": "execute_result"
    }
   ],
   "source": [
    "# New clustering for 1 star reviews\n",
    "df[df['review_rating']==1]['km_cluster'].value_counts()"
   ]
  },
  {
   "cell_type": "code",
   "execution_count": 12,
   "metadata": {
    "scrolled": true
   },
   "outputs": [
    {
     "data": {
      "text/plain": [
       "1.0     5\n",
       "2.0     9\n",
       "3.0    43\n",
       "4.0    73\n",
       "5.0    58\n",
       "Name: review_rating, dtype: int64"
      ]
     },
     "execution_count": 12,
     "metadata": {},
     "output_type": "execute_result"
    }
   ],
   "source": [
    "# Note how many reviews were reclassified according to the new clusters\n",
    "df[df['km_cluster']==4]['review_rating'].value_counts().sort_index()"
   ]
  },
  {
   "cell_type": "code",
   "execution_count": 13,
   "metadata": {},
   "outputs": [
    {
     "data": {
      "text/plain": [
       "1.0    154\n",
       "2.0     59\n",
       "3.0     43\n",
       "4.0      6\n",
       "5.0      1\n",
       "Name: review_rating, dtype: int64"
      ]
     },
     "execution_count": 13,
     "metadata": {},
     "output_type": "execute_result"
    }
   ],
   "source": [
    "df[df['km_cluster']==3]['review_rating'].value_counts().sort_index()"
   ]
  },
  {
   "cell_type": "code",
   "execution_count": 14,
   "metadata": {},
   "outputs": [
    {
     "data": {
      "text/plain": [
       "1.0     8\n",
       "2.0    10\n",
       "3.0    30\n",
       "4.0    24\n",
       "5.0    23\n",
       "Name: review_rating, dtype: int64"
      ]
     },
     "execution_count": 14,
     "metadata": {},
     "output_type": "execute_result"
    }
   ],
   "source": [
    "df[df['km_cluster']==2]['review_rating'].value_counts().sort_index()"
   ]
  },
  {
   "cell_type": "code",
   "execution_count": 15,
   "metadata": {},
   "outputs": [
    {
     "data": {
      "text/plain": [
       "1.0    27\n",
       "2.0    22\n",
       "3.0    39\n",
       "4.0    24\n",
       "5.0     6\n",
       "Name: review_rating, dtype: int64"
      ]
     },
     "execution_count": 15,
     "metadata": {},
     "output_type": "execute_result"
    }
   ],
   "source": [
    "df[df['km_cluster']==1]['review_rating'].value_counts().sort_index()"
   ]
  },
  {
   "cell_type": "code",
   "execution_count": 16,
   "metadata": {},
   "outputs": [
    {
     "data": {
      "text/plain": [
       "1.0       2\n",
       "2.0       1\n",
       "3.0      44\n",
       "4.0     431\n",
       "5.0    1756\n",
       "Name: review_rating, dtype: int64"
      ]
     },
     "execution_count": 16,
     "metadata": {},
     "output_type": "execute_result"
    }
   ],
   "source": [
    "df[df['km_cluster']==0]['review_rating'].value_counts().sort_index()"
   ]
  },
  {
   "cell_type": "code",
   "execution_count": 17,
   "metadata": {},
   "outputs": [
    {
     "data": {
      "text/plain": [
       "106     Utopia has been in the neighborhood for as lon...\n",
       "169     Came here before a concert at Lincoln Center b...\n",
       "195     A lovely, hole-in-the-wall little cafe tucked ...\n",
       "362     Allow me to articulate a meticulously consider...\n",
       "403     Pros: the atmosphere is gorgeous and you can't...\n",
       "544                       First time here. Good was okay.\n",
       "548     Loved their pizza and calzones! We loved how t...\n",
       "718     Classic NYC Italian restaurant with okay food....\n",
       "764     First off this place is smaller than it looks....\n",
       "1064    We went on a Thursday night and it was not bus...\n",
       "1071    I got the taco salad, and it wasn’t bad. In fa...\n",
       "1198    My boyfriend and I wanted to have the Olive Ga...\n",
       "1223    We just wanted a quick bite to eat after a lon...\n",
       "1261    Cool atmosphere. Food was ok, I would not reco...\n",
       "1277    Came across this place in the food hall, the m...\n",
       "1279    The lobster mac and cheese was top ten. The wi...\n",
       "1326    Spacious place, big menu\\nSchezuan mushroom du...\n",
       "1353    Nah for me. Reading other reviews and people s...\n",
       "1372    Kale Caesar was good but the hanger steak was ...\n",
       "1539    Traveling, passing by or some how on a budget ...\n",
       "1555    This is a great NYC institution where you can ...\n",
       "1563    Decent sports bar with standard bar food selec...\n",
       "1572    I've had the food here off their lunch menu an...\n",
       "1655    This was a nice little spot. We had the soup a...\n",
       "1707    Seemed clean and service was amazingly swift e...\n",
       "1797    Really good portion tacos. Decent price. Staff...\n",
       "1853    The food is great and the prices are decent. T...\n",
       "1887    Came here recently because I the area and need...\n",
       "1939    VERY VERY GOOD TACOS. Had to give them three s...\n",
       "1992    The best part was the crust! The crust from th...\n",
       "2020    Went for the tasting menu. The food sounded re...\n",
       "2063    Strolled into here on a Saturday night. I like...\n",
       "2193    I liked the cheese and the zucchini for the ap...\n",
       "2228    We visited this place for the first time. The ...\n",
       "2321    The ambiance was good, and the music was loud,...\n",
       "2399    The food is good, my lamb chops were tender bu...\n",
       "2456    Noodles are GREAT. Absolutely love this place....\n",
       "2496    Very nice atmosphere for a nice Italian restau...\n",
       "2516    Honestly, I need to try this place again becau...\n",
       "2635    Picked up my daughter after school and went to...\n",
       "2658    Very mid food but they have a nice sopa de res...\n",
       "2793    Good selection of food. Reminds me of what mom...\n",
       "2808    The vibe was great, very beautiful interior an...\n",
       "2811    When I think about hip New York dining spots, ...\n",
       "Name: text, dtype: object"
      ]
     },
     "execution_count": 17,
     "metadata": {},
     "output_type": "execute_result"
    }
   ],
   "source": [
    "# List of 5 star reviews based on new cluster, which got 3 star reviews from reviewers\n",
    "df[(df['km_cluster']==0) & (df['review_rating']==3)]['text']"
   ]
  },
  {
   "cell_type": "code",
   "execution_count": 18,
   "metadata": {},
   "outputs": [
    {
     "data": {
      "text/plain": [
       "'When I think about hip New York dining spots, Casino is the first thing that comes to mind.\\n\\nCasino’s interiors have this natural look with slopes and curves as if the guys who built it worked with the natural landscape. It’s dark and cozy inside. A really nice place to rest from the cold November wind.\\n\\nWe had oysters and the non-alcoholic drinks. Pretty good.\\n\\nBest to reserve a table if you plan on going as the place gets packed pretty quick. New York locals crowd.\\n\\nShout out to Quentin and the rest of the crew for the hospitality. He gave us a seat even though we just walked in.'"
      ]
     },
     "execution_count": 18,
     "metadata": {},
     "output_type": "execute_result"
    }
   ],
   "source": [
    "# Example of good re-classification - User gave 3 star review, but seems to deserve 4+ stars\n",
    "df[(df['km_cluster']==0) & (df['review_rating']==3)]['text'].iloc[-1]"
   ]
  },
  {
   "cell_type": "code",
   "execution_count": 19,
   "metadata": {},
   "outputs": [
    {
     "data": {
      "text/plain": [
       "\"Picked up my daughter after school and went to grab a bite to eat we decided on tacos and ended up here.. Cute little corner spot in the  Lower East side  With table and chairs for outdoor seating. We ordered chicken tacos and steak tacos tacos and in order of guacamole and chips. The tacos were very well seasoned and tasty the but my favorite was the chips in guacamole and the green sauce I really don't know the name for it but we put it on our tacos we even put it on our nachos so it was pretty good I do recommend this place for a quick bite if you really don't have any thoughts on where to eat This would be a good spot to grab a couple of tacos😁\""
      ]
     },
     "execution_count": 19,
     "metadata": {},
     "output_type": "execute_result"
    }
   ],
   "source": [
    "# Example of good re-classification - User gave 3 star review, but seems to deserve 4+ stars\n",
    "df[(df['km_cluster']==0) & (df['review_rating']==3)]['text'].iloc[-5]"
   ]
  },
  {
   "cell_type": "code",
   "execution_count": 20,
   "metadata": {
    "scrolled": false
   },
   "outputs": [
    {
     "data": {
      "text/plain": [
       "'Came here before a concert at Lincoln Center because of all the outstanding reviews.   The crust is definitely foccacia-like, well charred while still being soft inside.   I got a funghi slice and an eggplant parmigiana slice.   My son got a buffalo chicken ranch and a pepperoni, and my husband got a Calabrese and a pepperoni.  There was no line at around 6:30 which was great, though they were clearly doing business.  Tables inside were about half taken.  It was very warm inside so we opted for the nice \"al fresco\" option they offer outside.  Pizza was reheated quickly, cut into pieces and promptly served to our table.  That said, although the crust was perfectly cooked - most of the toppings were disappointing.   Not \"bad\" pizza- but definitely not the finest NY has to offer.  Would I come back?  Sure.  Will it be a priority?   Nah.  If you\\'re looking for decent pizza, stop by.   If you\\'re looking for traditional NY pizza, keep looking.'"
      ]
     },
     "execution_count": 20,
     "metadata": {},
     "output_type": "execute_result"
    }
   ],
   "source": [
    "# Example of misclassification - Reclassified as 5 star review, but sounds like more of 3-4 star review\n",
    "df[(df['km_cluster']==0) & (df['review_rating']==3)]['text'].iloc[1]"
   ]
  },
  {
   "cell_type": "code",
   "execution_count": 21,
   "metadata": {},
   "outputs": [
    {
     "data": {
      "text/plain": [
       "'The vibe was great, very beautiful interior and feels like you go back in time. The espresso martini was great, not sure if it’s worth its price though. Food was a 3.5 out of 5, can’t say I’ll be coming back for a dinner, but for a drink and atmosphere I would. If I could leave 3.5 stars I’d do that. Overall not a bad experience, however the service could be better.\\n\\nUpdated: Don’t order the chicken dish.'"
      ]
     },
     "execution_count": 21,
     "metadata": {},
     "output_type": "execute_result"
    }
   ],
   "source": [
    "# Example of misclassification - 5 star rating although the user wants to leave 3.5 stars. \n",
    "# Per review, definitely not 5 star review\n",
    "df[(df['km_cluster']==0) & (df['review_rating']==3)]['text'].iloc[-2]"
   ]
  },
  {
   "cell_type": "code",
   "execution_count": 22,
   "metadata": {},
   "outputs": [
    {
     "data": {
      "text/plain": [
       "\"It's a very long wait on a Sunday. I arrived around 11.15 and the wait for one person was an hour. For two people or more it was a 3 hour wait.\\n\\nThe famous pancakes were delicious, even as a single stack was quite large. The home fries were just broken up hash browns so a little disappointed.\\n\\nI would go back if I was super hungry, but because of the long wait I had eaten something small beforehand.\""
      ]
     },
     "execution_count": 22,
     "metadata": {},
     "output_type": "execute_result"
    }
   ],
   "source": [
    "# Example of misclassification - 4 star rating but sounds very mediocre review\n",
    "df[(df['km_cluster']==3) & (df['review_rating']==4)]['text'].iloc[5]"
   ]
  },
  {
   "cell_type": "code",
   "execution_count": 23,
   "metadata": {},
   "outputs": [
    {
     "data": {
      "text/plain": [
       "'Nice place but not 5 stars, 3 kind of sandwich and at noon only 2 available.\\nGot there on reviews but at least the lobster sandwich is not so fantastic as expected.'"
      ]
     },
     "execution_count": 23,
     "metadata": {},
     "output_type": "execute_result"
    }
   ],
   "source": [
    "# Example of misclassification - 4 star rating but sounds more like a 3 star review\n",
    "df[(df['km_cluster']==3) & (df['review_rating']==4)]['text'].iloc[0]"
   ]
  },
  {
   "cell_type": "markdown",
   "metadata": {},
   "source": [
    "#####  Observation\n",
    "Recalibrated star rating system, from time to time, correctly reclassifies user star rating into the \"right\" bucket as you can see from the above examples. However, there are also many cases where the reclassifying system incorrectly labeled a given review. \n",
    "\n",
    "Unfortunately, it is difficult to evaluate the performance of the reclassification model as there is no supervised or human re-evaluated star rating of each user review to compare against. "
   ]
  },
  {
   "cell_type": "markdown",
   "metadata": {},
   "source": [
    "#### K-Means Clustering - Version 2"
   ]
  },
  {
   "cell_type": "code",
   "execution_count": 24,
   "metadata": {},
   "outputs": [],
   "source": [
    "km2 = KMeans(n_clusters = 5, random_state=5)"
   ]
  },
  {
   "cell_type": "code",
   "execution_count": 25,
   "metadata": {},
   "outputs": [
    {
     "name": "stderr",
     "output_type": "stream",
     "text": [
      "/Users/Sangwon.Shim/anaconda3/envs/learn-env/lib/python3.8/site-packages/sklearn/cluster/_kmeans.py:1416: FutureWarning: The default value of `n_init` will change from 10 to 'auto' in 1.4. Set the value of `n_init` explicitly to suppress the warning\n",
      "  super()._check_params_vs_input(X, default_n_init=10)\n"
     ]
    },
    {
     "data": {
      "text/html": [
       "<style>#sk-container-id-2 {color: black;}#sk-container-id-2 pre{padding: 0;}#sk-container-id-2 div.sk-toggleable {background-color: white;}#sk-container-id-2 label.sk-toggleable__label {cursor: pointer;display: block;width: 100%;margin-bottom: 0;padding: 0.3em;box-sizing: border-box;text-align: center;}#sk-container-id-2 label.sk-toggleable__label-arrow:before {content: \"▸\";float: left;margin-right: 0.25em;color: #696969;}#sk-container-id-2 label.sk-toggleable__label-arrow:hover:before {color: black;}#sk-container-id-2 div.sk-estimator:hover label.sk-toggleable__label-arrow:before {color: black;}#sk-container-id-2 div.sk-toggleable__content {max-height: 0;max-width: 0;overflow: hidden;text-align: left;background-color: #f0f8ff;}#sk-container-id-2 div.sk-toggleable__content pre {margin: 0.2em;color: black;border-radius: 0.25em;background-color: #f0f8ff;}#sk-container-id-2 input.sk-toggleable__control:checked~div.sk-toggleable__content {max-height: 200px;max-width: 100%;overflow: auto;}#sk-container-id-2 input.sk-toggleable__control:checked~label.sk-toggleable__label-arrow:before {content: \"▾\";}#sk-container-id-2 div.sk-estimator input.sk-toggleable__control:checked~label.sk-toggleable__label {background-color: #d4ebff;}#sk-container-id-2 div.sk-label input.sk-toggleable__control:checked~label.sk-toggleable__label {background-color: #d4ebff;}#sk-container-id-2 input.sk-hidden--visually {border: 0;clip: rect(1px 1px 1px 1px);clip: rect(1px, 1px, 1px, 1px);height: 1px;margin: -1px;overflow: hidden;padding: 0;position: absolute;width: 1px;}#sk-container-id-2 div.sk-estimator {font-family: monospace;background-color: #f0f8ff;border: 1px dotted black;border-radius: 0.25em;box-sizing: border-box;margin-bottom: 0.5em;}#sk-container-id-2 div.sk-estimator:hover {background-color: #d4ebff;}#sk-container-id-2 div.sk-parallel-item::after {content: \"\";width: 100%;border-bottom: 1px solid gray;flex-grow: 1;}#sk-container-id-2 div.sk-label:hover label.sk-toggleable__label {background-color: #d4ebff;}#sk-container-id-2 div.sk-serial::before {content: \"\";position: absolute;border-left: 1px solid gray;box-sizing: border-box;top: 0;bottom: 0;left: 50%;z-index: 0;}#sk-container-id-2 div.sk-serial {display: flex;flex-direction: column;align-items: center;background-color: white;padding-right: 0.2em;padding-left: 0.2em;position: relative;}#sk-container-id-2 div.sk-item {position: relative;z-index: 1;}#sk-container-id-2 div.sk-parallel {display: flex;align-items: stretch;justify-content: center;background-color: white;position: relative;}#sk-container-id-2 div.sk-item::before, #sk-container-id-2 div.sk-parallel-item::before {content: \"\";position: absolute;border-left: 1px solid gray;box-sizing: border-box;top: 0;bottom: 0;left: 50%;z-index: -1;}#sk-container-id-2 div.sk-parallel-item {display: flex;flex-direction: column;z-index: 1;position: relative;background-color: white;}#sk-container-id-2 div.sk-parallel-item:first-child::after {align-self: flex-end;width: 50%;}#sk-container-id-2 div.sk-parallel-item:last-child::after {align-self: flex-start;width: 50%;}#sk-container-id-2 div.sk-parallel-item:only-child::after {width: 0;}#sk-container-id-2 div.sk-dashed-wrapped {border: 1px dashed gray;margin: 0 0.4em 0.5em 0.4em;box-sizing: border-box;padding-bottom: 0.4em;background-color: white;}#sk-container-id-2 div.sk-label label {font-family: monospace;font-weight: bold;display: inline-block;line-height: 1.2em;}#sk-container-id-2 div.sk-label-container {text-align: center;}#sk-container-id-2 div.sk-container {/* jupyter's `normalize.less` sets `[hidden] { display: none; }` but bootstrap.min.css set `[hidden] { display: none !important; }` so we also need the `!important` here to be able to override the default hidden behavior on the sphinx rendered scikit-learn.org. See: https://github.com/scikit-learn/scikit-learn/issues/21755 */display: inline-block !important;position: relative;}#sk-container-id-2 div.sk-text-repr-fallback {display: none;}</style><div id=\"sk-container-id-2\" class=\"sk-top-container\"><div class=\"sk-text-repr-fallback\"><pre>KMeans(n_clusters=5, random_state=5)</pre><b>In a Jupyter environment, please rerun this cell to show the HTML representation or trust the notebook. <br />On GitHub, the HTML representation is unable to render, please try loading this page with nbviewer.org.</b></div><div class=\"sk-container\" hidden><div class=\"sk-item\"><div class=\"sk-estimator sk-toggleable\"><input class=\"sk-toggleable__control sk-hidden--visually\" id=\"sk-estimator-id-2\" type=\"checkbox\" checked><label for=\"sk-estimator-id-2\" class=\"sk-toggleable__label sk-toggleable__label-arrow\">KMeans</label><div class=\"sk-toggleable__content\"><pre>KMeans(n_clusters=5, random_state=5)</pre></div></div></div></div></div>"
      ],
      "text/plain": [
       "KMeans(n_clusters=5, random_state=5)"
      ]
     },
     "execution_count": 25,
     "metadata": {},
     "output_type": "execute_result"
    }
   ],
   "source": [
    "# Using different clustering parameters\n",
    "km2.fit(df[['roberta_pos','roberta_neg']])"
   ]
  },
  {
   "cell_type": "code",
   "execution_count": 26,
   "metadata": {},
   "outputs": [],
   "source": [
    "df['km_cluster_v2'] = km2.labels_"
   ]
  },
  {
   "cell_type": "code",
   "execution_count": 27,
   "metadata": {},
   "outputs": [
    {
     "data": {
      "text/plain": [
       "array([[0.96633443, 0.00569745],\n",
       "       [0.0785209 , 0.61483279],\n",
       "       [0.2869981 , 0.21553158],\n",
       "       [0.01446248, 0.88076899],\n",
       "       [0.70265119, 0.05749273]])"
      ]
     },
     "execution_count": 27,
     "metadata": {},
     "output_type": "execute_result"
    }
   ],
   "source": [
    "# Didn't change from the original k-means result\n",
    "km2.cluster_centers_"
   ]
  },
  {
   "cell_type": "markdown",
   "metadata": {},
   "source": [
    "Looks like: \n",
    "- Cluster 0 is 5 star\n",
    "- Cluster 4 is 4 star\n",
    "- Cluster 2 is 3 star\n",
    "- Cluster 1 is 2 star\n",
    "- Cluster 3 is 1 star"
   ]
  },
  {
   "cell_type": "code",
   "execution_count": 28,
   "metadata": {},
   "outputs": [
    {
     "data": {
      "text/plain": [
       "0    1759\n",
       "4      58\n",
       "2      22\n",
       "1       4\n",
       "3       1\n",
       "Name: km_cluster_v2, dtype: int64"
      ]
     },
     "execution_count": 28,
     "metadata": {},
     "output_type": "execute_result"
    }
   ],
   "source": [
    "df[df['review_rating']==5]['km_cluster_v2'].value_counts()"
   ]
  },
  {
   "cell_type": "code",
   "execution_count": 29,
   "metadata": {},
   "outputs": [
    {
     "data": {
      "text/plain": [
       "0    434\n",
       "4     68\n",
       "2     28\n",
       "1     22\n",
       "3      6\n",
       "Name: km_cluster_v2, dtype: int64"
      ]
     },
     "execution_count": 29,
     "metadata": {},
     "output_type": "execute_result"
    }
   ],
   "source": [
    "df[df['review_rating']==4]['km_cluster_v2'].value_counts()"
   ]
  },
  {
   "cell_type": "code",
   "execution_count": 30,
   "metadata": {},
   "outputs": [
    {
     "data": {
      "text/plain": [
       "0    45\n",
       "3    43\n",
       "4    41\n",
       "1    38\n",
       "2    32\n",
       "Name: km_cluster_v2, dtype: int64"
      ]
     },
     "execution_count": 30,
     "metadata": {},
     "output_type": "execute_result"
    }
   ],
   "source": [
    "df[df['review_rating']==3]['km_cluster_v2'].value_counts()"
   ]
  },
  {
   "cell_type": "code",
   "execution_count": 31,
   "metadata": {},
   "outputs": [
    {
     "data": {
      "text/plain": [
       "3    58\n",
       "1    21\n",
       "2    13\n",
       "4     8\n",
       "0     1\n",
       "Name: km_cluster_v2, dtype: int64"
      ]
     },
     "execution_count": 31,
     "metadata": {},
     "output_type": "execute_result"
    }
   ],
   "source": [
    "df[df['review_rating']==2]['km_cluster_v2'].value_counts()"
   ]
  },
  {
   "cell_type": "code",
   "execution_count": 32,
   "metadata": {},
   "outputs": [
    {
     "data": {
      "text/plain": [
       "3    155\n",
       "1     26\n",
       "2      9\n",
       "4      4\n",
       "0      2\n",
       "Name: km_cluster_v2, dtype: int64"
      ]
     },
     "execution_count": 32,
     "metadata": {},
     "output_type": "execute_result"
    }
   ],
   "source": [
    "df[df['review_rating']==1]['km_cluster_v2'].value_counts()"
   ]
  },
  {
   "cell_type": "code",
   "execution_count": 33,
   "metadata": {},
   "outputs": [
    {
     "data": {
      "text/plain": [
       "\"Loved their pizza and calzones! We loved how the pizza bread were chewy and had some garlicky flavor, slices were big and affordable too. Their menu options is wide and freshly made! Will definitely go back when I'm in the city.\""
      ]
     },
     "execution_count": 33,
     "metadata": {},
     "output_type": "execute_result"
    }
   ],
   "source": [
    "# Example of good re-classification - user was harsh on the star rating for a very good review\n",
    "df[(df['km_cluster_v2']==0) & (df['review_rating']==3)]['text'].iloc[6]"
   ]
  },
  {
   "cell_type": "code",
   "execution_count": 34,
   "metadata": {},
   "outputs": [
    {
     "data": {
      "text/plain": [
       "'First off this place is smaller than it looks.  The tables are tiny.  The pizza is OK.  It is not amazing but not awful.  The ingredients are fresh and tasty.  The service is great here. Prices are good.  The place is pretty and stylish.'"
      ]
     },
     "execution_count": 34,
     "metadata": {},
     "output_type": "execute_result"
    }
   ],
   "source": [
    "# Example of misclassification - classified as 5 star review, but it is actually 3 star\n",
    "df[(df['km_cluster_v2']==0) & (df['review_rating']==3)]['text'].iloc[8]"
   ]
  },
  {
   "cell_type": "markdown",
   "metadata": {},
   "source": [
    "##### Observation\n",
    "Slight change in k-means cluster parameters essentially gave similar performance to the original k-means cluster"
   ]
  },
  {
   "cell_type": "markdown",
   "metadata": {},
   "source": [
    "#### Agglomerative Clustering"
   ]
  },
  {
   "cell_type": "code",
   "execution_count": 35,
   "metadata": {},
   "outputs": [],
   "source": [
    "# Using different clustering method\n",
    "ac = AgglomerativeClustering(n_clusters=5)"
   ]
  },
  {
   "cell_type": "code",
   "execution_count": 36,
   "metadata": {},
   "outputs": [
    {
     "data": {
      "text/html": [
       "<style>#sk-container-id-3 {color: black;}#sk-container-id-3 pre{padding: 0;}#sk-container-id-3 div.sk-toggleable {background-color: white;}#sk-container-id-3 label.sk-toggleable__label {cursor: pointer;display: block;width: 100%;margin-bottom: 0;padding: 0.3em;box-sizing: border-box;text-align: center;}#sk-container-id-3 label.sk-toggleable__label-arrow:before {content: \"▸\";float: left;margin-right: 0.25em;color: #696969;}#sk-container-id-3 label.sk-toggleable__label-arrow:hover:before {color: black;}#sk-container-id-3 div.sk-estimator:hover label.sk-toggleable__label-arrow:before {color: black;}#sk-container-id-3 div.sk-toggleable__content {max-height: 0;max-width: 0;overflow: hidden;text-align: left;background-color: #f0f8ff;}#sk-container-id-3 div.sk-toggleable__content pre {margin: 0.2em;color: black;border-radius: 0.25em;background-color: #f0f8ff;}#sk-container-id-3 input.sk-toggleable__control:checked~div.sk-toggleable__content {max-height: 200px;max-width: 100%;overflow: auto;}#sk-container-id-3 input.sk-toggleable__control:checked~label.sk-toggleable__label-arrow:before {content: \"▾\";}#sk-container-id-3 div.sk-estimator input.sk-toggleable__control:checked~label.sk-toggleable__label {background-color: #d4ebff;}#sk-container-id-3 div.sk-label input.sk-toggleable__control:checked~label.sk-toggleable__label {background-color: #d4ebff;}#sk-container-id-3 input.sk-hidden--visually {border: 0;clip: rect(1px 1px 1px 1px);clip: rect(1px, 1px, 1px, 1px);height: 1px;margin: -1px;overflow: hidden;padding: 0;position: absolute;width: 1px;}#sk-container-id-3 div.sk-estimator {font-family: monospace;background-color: #f0f8ff;border: 1px dotted black;border-radius: 0.25em;box-sizing: border-box;margin-bottom: 0.5em;}#sk-container-id-3 div.sk-estimator:hover {background-color: #d4ebff;}#sk-container-id-3 div.sk-parallel-item::after {content: \"\";width: 100%;border-bottom: 1px solid gray;flex-grow: 1;}#sk-container-id-3 div.sk-label:hover label.sk-toggleable__label {background-color: #d4ebff;}#sk-container-id-3 div.sk-serial::before {content: \"\";position: absolute;border-left: 1px solid gray;box-sizing: border-box;top: 0;bottom: 0;left: 50%;z-index: 0;}#sk-container-id-3 div.sk-serial {display: flex;flex-direction: column;align-items: center;background-color: white;padding-right: 0.2em;padding-left: 0.2em;position: relative;}#sk-container-id-3 div.sk-item {position: relative;z-index: 1;}#sk-container-id-3 div.sk-parallel {display: flex;align-items: stretch;justify-content: center;background-color: white;position: relative;}#sk-container-id-3 div.sk-item::before, #sk-container-id-3 div.sk-parallel-item::before {content: \"\";position: absolute;border-left: 1px solid gray;box-sizing: border-box;top: 0;bottom: 0;left: 50%;z-index: -1;}#sk-container-id-3 div.sk-parallel-item {display: flex;flex-direction: column;z-index: 1;position: relative;background-color: white;}#sk-container-id-3 div.sk-parallel-item:first-child::after {align-self: flex-end;width: 50%;}#sk-container-id-3 div.sk-parallel-item:last-child::after {align-self: flex-start;width: 50%;}#sk-container-id-3 div.sk-parallel-item:only-child::after {width: 0;}#sk-container-id-3 div.sk-dashed-wrapped {border: 1px dashed gray;margin: 0 0.4em 0.5em 0.4em;box-sizing: border-box;padding-bottom: 0.4em;background-color: white;}#sk-container-id-3 div.sk-label label {font-family: monospace;font-weight: bold;display: inline-block;line-height: 1.2em;}#sk-container-id-3 div.sk-label-container {text-align: center;}#sk-container-id-3 div.sk-container {/* jupyter's `normalize.less` sets `[hidden] { display: none; }` but bootstrap.min.css set `[hidden] { display: none !important; }` so we also need the `!important` here to be able to override the default hidden behavior on the sphinx rendered scikit-learn.org. See: https://github.com/scikit-learn/scikit-learn/issues/21755 */display: inline-block !important;position: relative;}#sk-container-id-3 div.sk-text-repr-fallback {display: none;}</style><div id=\"sk-container-id-3\" class=\"sk-top-container\"><div class=\"sk-text-repr-fallback\"><pre>AgglomerativeClustering(n_clusters=5)</pre><b>In a Jupyter environment, please rerun this cell to show the HTML representation or trust the notebook. <br />On GitHub, the HTML representation is unable to render, please try loading this page with nbviewer.org.</b></div><div class=\"sk-container\" hidden><div class=\"sk-item\"><div class=\"sk-estimator sk-toggleable\"><input class=\"sk-toggleable__control sk-hidden--visually\" id=\"sk-estimator-id-3\" type=\"checkbox\" checked><label for=\"sk-estimator-id-3\" class=\"sk-toggleable__label sk-toggleable__label-arrow\">AgglomerativeClustering</label><div class=\"sk-toggleable__content\"><pre>AgglomerativeClustering(n_clusters=5)</pre></div></div></div></div></div>"
      ],
      "text/plain": [
       "AgglomerativeClustering(n_clusters=5)"
      ]
     },
     "execution_count": 36,
     "metadata": {},
     "output_type": "execute_result"
    }
   ],
   "source": [
    "ac.fit(df[['roberta_neg','roberta_neu','roberta_pos']])"
   ]
  },
  {
   "cell_type": "code",
   "execution_count": 37,
   "metadata": {},
   "outputs": [],
   "source": [
    "df['ac_cluster'] = ac.labels_"
   ]
  },
  {
   "cell_type": "code",
   "execution_count": 38,
   "metadata": {},
   "outputs": [
    {
     "data": {
      "text/plain": [
       "1    1745\n",
       "3      64\n",
       "0      30\n",
       "4       3\n",
       "2       2\n",
       "Name: ac_cluster, dtype: int64"
      ]
     },
     "execution_count": 38,
     "metadata": {},
     "output_type": "execute_result"
    }
   ],
   "source": [
    "# Cluster 1 seems to be very positive reviews\n",
    "df[df['review_rating']==5]['ac_cluster'].value_counts()"
   ]
  },
  {
   "cell_type": "code",
   "execution_count": 39,
   "metadata": {},
   "outputs": [
    {
     "data": {
      "text/plain": [
       "1    418\n",
       "3     69\n",
       "0     43\n",
       "4     21\n",
       "2      7\n",
       "Name: ac_cluster, dtype: int64"
      ]
     },
     "execution_count": 39,
     "metadata": {},
     "output_type": "execute_result"
    }
   ],
   "source": [
    "df[df['review_rating']==4]['ac_cluster'].value_counts()"
   ]
  },
  {
   "cell_type": "code",
   "execution_count": 40,
   "metadata": {},
   "outputs": [
    {
     "data": {
      "text/plain": [
       "2    52\n",
       "1    42\n",
       "0    39\n",
       "4    33\n",
       "3    33\n",
       "Name: ac_cluster, dtype: int64"
      ]
     },
     "execution_count": 40,
     "metadata": {},
     "output_type": "execute_result"
    }
   ],
   "source": [
    "df[df['review_rating']==3]['ac_cluster'].value_counts()"
   ]
  },
  {
   "cell_type": "code",
   "execution_count": 41,
   "metadata": {},
   "outputs": [
    {
     "data": {
      "text/plain": [
       "2    66\n",
       "0    16\n",
       "4    14\n",
       "3     4\n",
       "1     1\n",
       "Name: ac_cluster, dtype: int64"
      ]
     },
     "execution_count": 41,
     "metadata": {},
     "output_type": "execute_result"
    }
   ],
   "source": [
    "# Cluster 2 appear to be quite negative reviews\n",
    "df[df['review_rating']==2]['ac_cluster'].value_counts()"
   ]
  },
  {
   "cell_type": "code",
   "execution_count": 42,
   "metadata": {},
   "outputs": [
    {
     "data": {
      "text/plain": [
       "2    162\n",
       "4     19\n",
       "0      9\n",
       "3      4\n",
       "1      2\n",
       "Name: ac_cluster, dtype: int64"
      ]
     },
     "execution_count": 42,
     "metadata": {},
     "output_type": "execute_result"
    }
   ],
   "source": [
    "df[df['review_rating']==1]['ac_cluster'].value_counts()"
   ]
  },
  {
   "cell_type": "code",
   "execution_count": 43,
   "metadata": {},
   "outputs": [
    {
     "data": {
      "text/plain": [
       "'Good not great.  Not what it used to be.  Food didn’t seem to have the same presentation and flavor as it used to be during the peak 10+ years ago.  Service was good and attentive but pasta took very long to come out.  Place is nice looking but I miss it being a stuffier crowd.'"
      ]
     },
     "execution_count": 43,
     "metadata": {},
     "output_type": "execute_result"
    }
   ],
   "source": [
    "# Example of misclassification - User gave 4 star rating and the review looks decent, but model gave poor rating\n",
    "df[(df['ac_cluster']==2) & (df['review_rating']==4)]['text'].iloc[1]"
   ]
  },
  {
   "cell_type": "code",
   "execution_count": 44,
   "metadata": {},
   "outputs": [
    {
     "data": {
      "text/plain": [
       "'Food was not what I expected I asked for a mix player and I got left smal chunks for chicken and lab. And the portions are very small compared to other trucks. Also got some of the fried food, it was straight out of the freezer and tasted bad\\nCould use a lot of improvement. Definitely not worth the time to go there.'"
      ]
     },
     "execution_count": 44,
     "metadata": {},
     "output_type": "execute_result"
    }
   ],
   "source": [
    "# Example of correct classification - bad rating and bad review\n",
    "df[(df['ac_cluster']==2) & (df['review_rating']==1)]['text'].iloc[1]"
   ]
  },
  {
   "cell_type": "code",
   "execution_count": 45,
   "metadata": {},
   "outputs": [
    {
     "data": {
      "text/plain": [
       "\"A lovely, hole-in-the-wall little cafe tucked in the corner of a boba shop with tasty food, including an impressively vast selection of vegan and vegetarian options. There's no seating inside the shop, but the Eleanor Roosevelt Memorial Park is just a few blocks away if you're alright with enjoying your food outside! The food was tasty, but a bit heavy and oversaturated with oil for my taste -- I opted for the egg white omelette, which didn't include any cheese (yay for me and my lactose intolerant friends), but did have a boat load of fresh veggies! It was incredibly tasty, and honestly way bigger than I was expecting, but did make me feel pretty greasy afterwards. The potatoes were even more saturated in oil and a bit oversalted, but still delicious. The meal also came with toast, which was just white bread toasted in what smelled like butter, so I didn't end up partaking, but the friend that I had gone to brunch with said that it was oddly chewy (potentially because it had to be wrapped in tin foil immediately after toasting).\\n\\nShe opted for one of their signature avocado toasts, which she adored -- it looks small, but it was incredibly filling, especially since they load on what seems like half or all of an avocado onto a single, frail piece of multigrain toast. The bread definitely couldn't hold up the heft of the avocado and salmon for long, so she ended up just eating her toast with a knife and fork, but it was still delicious nonetheless.\\n\\nThe cashier was really sweet and helpful, but it did take an incredibly long time for us to get our food; even though we were the only ones in the restaurant, we ended up waiting upwards of 25 minutes to get our to-go orders. Thankfully we weren't in too much of a rush, but I would definitely recommend opting for another spot if you're looking for a quick option.\\n\\nEven so, Cafe Bee has a delightfully cute concept with great options for folks following a plant-based diet, and is definitely still on the top of my NYC breakfast recommendations!\""
      ]
     },
     "execution_count": 45,
     "metadata": {},
     "output_type": "execute_result"
    }
   ],
   "source": [
    "# Example of good re-classification - User gave 3 star review, but seems to deserve 4+ stars\n",
    "df[(df['ac_cluster']==1) & (df['review_rating']==3)]['text'].iloc[2]"
   ]
  },
  {
   "cell_type": "markdown",
   "metadata": {},
   "source": [
    "##### Oberservations\n",
    "Again, I do not see a good improvement in the clustering performance: general distribution of clustering per each user star rating bucket do not significantly differ from that of the K-means methods. There are still instances where good and bad reviews are clustered in the same cluster as you can see above. And, again, I see cases where good reviews had mediocre user star rating. "
   ]
  },
  {
   "cell_type": "markdown",
   "metadata": {},
   "source": [
    "## Conclusion\n",
    "### Final Observations\n",
    "The sentiment analysis models (i.e., VADER and Roberta) did a good job providing general sentiment of a collection of reviews. In fact, it was able to decently distinguish overall sentiment per star rating buckets on an aggregated level. However, for a specific/individual review, the model often provided incorrect sentiment scores, especially in a situation where the text reviews were sarcastic or had nuanced criticisms. \n",
    "\n",
    "Although the reclassification model often mis-categorized individual reviews in a wrong bucket, on the bright side, we were able to see some occasions where star rating reclassification model correctly reclassified star rating based on text reviews as some users were overly harsh or loose on their star ratings. Hence, we do see an opportunity and benefit of deploying such model. \n",
    "\n",
    "### Recommendations:\n",
    "From the project, following are my recommendations to the PM:\n",
    "1. Post example reviews per different star rating buckets to create a general criteria/guideline for what each star rating means (to prevent very harsh or loose star ratings)\n",
    "2. Beta-test ML+NLP/LLM-based restaurant star rating system (i.e., based on sentiment analysis model) in addition to the traditional star rating system and get user's feedback\n",
    "3. Beta-test star rating assistant feature: when there appears to be a big mismatch in text review's sentiment score and user's star rating, assistant feature can provide a suggested star rating, which user can override if user would like to"
   ]
  },
  {
   "cell_type": "markdown",
   "metadata": {},
   "source": [
    "## Next Steps\n",
    "1. Re-run the analysis and re-train the model with bigger dataset\n",
    "2. Research into more advanced sentiment analysis model that can better pick up nuances (perhaps, utilize ChatGPT 4.0 API)"
   ]
  }
 ],
 "metadata": {
  "celltoolbar": "Create Assignment",
  "kernelspec": {
   "display_name": "Python 3",
   "language": "python",
   "name": "python3"
  },
  "language_info": {
   "codemirror_mode": {
    "name": "ipython",
    "version": 3
   },
   "file_extension": ".py",
   "mimetype": "text/x-python",
   "name": "python",
   "nbconvert_exporter": "python",
   "pygments_lexer": "ipython3",
   "version": "3.8.5"
  }
 },
 "nbformat": 4,
 "nbformat_minor": 4
}
