{
 "cells": [
  {
   "cell_type": "markdown",
   "metadata": {},
   "source": [
    "# Recalibrated Restaurant Rating Based On Sentiment Analysis"
   ]
  },
  {
   "cell_type": "markdown",
   "metadata": {},
   "source": [
    "<img src=\"https://static1.squarespace.com/static/5b1590a93c3a53e49c6d280d/t/5fd058bf5efba8153b21ad7f/1607489731350/restaurant-reviews-16x9.jpg?format=1500w\" alt=\"Image Alt Text\">\n",
    "\n",
    "## Project Overview\n",
    "How important is star rating, or online reviews, for a small business, such as restaurant? \n",
    "\n",
    "According to a study, 88% of consumers read online reviews to decide whether to experience or purchase a business' product or service. And, 94% of consumers will not do a business with a company due to negative online reviews. \n",
    "\n",
    "Amongst variety of different online review platforms (e.g., Yelp, TripAdvisor, Facebook), Google has the greatest power as it holds ~90% of search traffic. \n",
    "\n",
    "Considering the aforementioned facts, it is crucial for a business/company to maintain a positive Google rating for its business to thrive. \n",
    "\n",
    "However, Google's star rating system can be arbitrary as reviewers all hold different criteria for providing certain number of stars. In this regard, this project aims to conduct NLP (Natural Language Processing) analysis to determine whether Google's star rating system is relatively accurate/objective based on the sentiment score of each review. \n",
    "\n",
    "*Source: Digital Air Strike*"
   ]
  },
  {
   "cell_type": "markdown",
   "metadata": {},
   "source": [
    "## Business Problem\n",
    "Google Maps Product Manager received many complaints from restaurant owners that Google rating system is quite inconsistent and arbitrary in that many restaurants are either over or under-rated by its customers despite similar quality of food, atmostphere, and service. \n",
    "\n",
    "For this reason, the PM would like to investigate whether the complaints are valid (or substantiated by data). If the claim is true, the PM is considering updating Google Maps' star rating system by auto-assigning stars based on each customer's review instead of user-assigned star rating system. \n",
    "\n",
    "To make a data-driven decision, the PM has engaged Sangwon, data scientist, for the analysis.\n",
    "\n",
    "*Note: This business problem is hypothetical; not based on actual complaint*"
   ]
  },
  {
   "cell_type": "markdown",
   "metadata": {},
   "source": [
    "## Data Understanding\n",
    "For this project, Google Maps review dataset was pulled from Google Maps API:\n",
    "\n",
    "- Each API data pull returns ~300 reviews (5 reviews per restaurant) for a given location (e.g., Chelsea)\n",
    "- Since the Google Maps API provides random ~300 reviews at a time, there may be duplicates in each pull \n",
    "- Since the API only provides the latest 5 reviews per restaurant, the star ratings composition is imbalanced as user has no control over the review selections\n",
    "\n",
    "Overall, for this project, I have pulled roughly ~5K reviews along with restaurant information to minimize API usage cost and computational power."
   ]
  },
  {
   "cell_type": "code",
   "execution_count": 1,
   "metadata": {},
   "outputs": [],
   "source": [
    "#Import relevant packages\n",
    "import pandas as pd\n",
    "import numpy as np\n",
    "import matplotlib.pyplot as plt\n",
    "import seaborn as sns\n",
    "import nltk\n",
    "from nltk.tokenize import regexp_tokenize, word_tokenize, RegexpTokenizer\n",
    "from nltk.corpus import stopwords, wordnet\n",
    "from nltk import pos_tag\n",
    "from nltk.stem import WordNetLemmatizer\n",
    "from nltk.sentiment import SentimentIntensityAnalyzer"
   ]
  },
  {
   "cell_type": "code",
   "execution_count": 2,
   "metadata": {},
   "outputs": [
    {
     "data": {
      "text/html": [
       "<div>\n",
       "<style scoped>\n",
       "    .dataframe tbody tr th:only-of-type {\n",
       "        vertical-align: middle;\n",
       "    }\n",
       "\n",
       "    .dataframe tbody tr th {\n",
       "        vertical-align: top;\n",
       "    }\n",
       "\n",
       "    .dataframe thead th {\n",
       "        text-align: right;\n",
       "    }\n",
       "</style>\n",
       "<table border=\"1\" class=\"dataframe\">\n",
       "  <thead>\n",
       "    <tr style=\"text-align: right;\">\n",
       "      <th></th>\n",
       "      <th>id</th>\n",
       "      <th>name</th>\n",
       "      <th>address</th>\n",
       "      <th>rating</th>\n",
       "      <th>author</th>\n",
       "      <th>text</th>\n",
       "      <th>review_rating</th>\n",
       "    </tr>\n",
       "  </thead>\n",
       "  <tbody>\n",
       "    <tr>\n",
       "      <th>0</th>\n",
       "      <td>1</td>\n",
       "      <td>Amsterdam Ale House</td>\n",
       "      <td>340 Amsterdam Ave, New York, NY 10024, USA</td>\n",
       "      <td>4.3</td>\n",
       "      <td>Julia NORTHCOTT</td>\n",
       "      <td>My husband and I went off the tourist track an...</td>\n",
       "      <td>5</td>\n",
       "    </tr>\n",
       "    <tr>\n",
       "      <th>1</th>\n",
       "      <td>2</td>\n",
       "      <td>Amsterdam Ale House</td>\n",
       "      <td>340 Amsterdam Ave, New York, NY 10024, USA</td>\n",
       "      <td>4.3</td>\n",
       "      <td>dave I</td>\n",
       "      <td>4/13/24 first time here. Cool bar vibe. Intere...</td>\n",
       "      <td>4</td>\n",
       "    </tr>\n",
       "    <tr>\n",
       "      <th>2</th>\n",
       "      <td>3</td>\n",
       "      <td>Amsterdam Ale House</td>\n",
       "      <td>340 Amsterdam Ave, New York, NY 10024, USA</td>\n",
       "      <td>4.3</td>\n",
       "      <td>Daniel Pino</td>\n",
       "      <td>Layout/atmosphere\\n*Bar (old, worn in wood) to...</td>\n",
       "      <td>4</td>\n",
       "    </tr>\n",
       "    <tr>\n",
       "      <th>3</th>\n",
       "      <td>4</td>\n",
       "      <td>Amsterdam Ale House</td>\n",
       "      <td>340 Amsterdam Ave, New York, NY 10024, USA</td>\n",
       "      <td>4.3</td>\n",
       "      <td>CA Hyde</td>\n",
       "      <td>Stopped by before a show at The Beacon. Good b...</td>\n",
       "      <td>4</td>\n",
       "    </tr>\n",
       "    <tr>\n",
       "      <th>4</th>\n",
       "      <td>5</td>\n",
       "      <td>Amsterdam Ale House</td>\n",
       "      <td>340 Amsterdam Ave, New York, NY 10024, USA</td>\n",
       "      <td>4.3</td>\n",
       "      <td>Steve Dempsey</td>\n",
       "      <td>Not the first time here and it's a good local ...</td>\n",
       "      <td>4</td>\n",
       "    </tr>\n",
       "  </tbody>\n",
       "</table>\n",
       "</div>"
      ],
      "text/plain": [
       "   id                 name                                     address  \\\n",
       "0   1  Amsterdam Ale House  340 Amsterdam Ave, New York, NY 10024, USA   \n",
       "1   2  Amsterdam Ale House  340 Amsterdam Ave, New York, NY 10024, USA   \n",
       "2   3  Amsterdam Ale House  340 Amsterdam Ave, New York, NY 10024, USA   \n",
       "3   4  Amsterdam Ale House  340 Amsterdam Ave, New York, NY 10024, USA   \n",
       "4   5  Amsterdam Ale House  340 Amsterdam Ave, New York, NY 10024, USA   \n",
       "\n",
       "   rating           author                                               text  \\\n",
       "0     4.3  Julia NORTHCOTT  My husband and I went off the tourist track an...   \n",
       "1     4.3           dave I  4/13/24 first time here. Cool bar vibe. Intere...   \n",
       "2     4.3      Daniel Pino  Layout/atmosphere\\n*Bar (old, worn in wood) to...   \n",
       "3     4.3          CA Hyde  Stopped by before a show at The Beacon. Good b...   \n",
       "4     4.3    Steve Dempsey  Not the first time here and it's a good local ...   \n",
       "\n",
       "   review_rating  \n",
       "0              5  \n",
       "1              4  \n",
       "2              4  \n",
       "3              4  \n",
       "4              4  "
      ]
     },
     "execution_count": 2,
     "metadata": {},
     "output_type": "execute_result"
    }
   ],
   "source": [
    "# Looking into the file structure\n",
    "sample_view = pd.read_csv('data/NYC_Restaurants_Reviews.csv')\n",
    "sample_view.head()"
   ]
  },
  {
   "cell_type": "markdown",
   "metadata": {},
   "source": [
    "## Data Preparation\n",
    "Output from the Google Maps API provides quite clean dataset. Hence, we will be doing minimal data cleansing and pre-processing. \n",
    "\n",
    "Sentiment analysis model does not require tokenizing, stemming, and lemmatizing as the models rely on pre-built lexicon that contains sentiment scores."
   ]
  },
  {
   "cell_type": "code",
   "execution_count": 3,
   "metadata": {},
   "outputs": [
    {
     "data": {
      "text/html": [
       "<div>\n",
       "<style scoped>\n",
       "    .dataframe tbody tr th:only-of-type {\n",
       "        vertical-align: middle;\n",
       "    }\n",
       "\n",
       "    .dataframe tbody tr th {\n",
       "        vertical-align: top;\n",
       "    }\n",
       "\n",
       "    .dataframe thead th {\n",
       "        text-align: right;\n",
       "    }\n",
       "</style>\n",
       "<table border=\"1\" class=\"dataframe\">\n",
       "  <thead>\n",
       "    <tr style=\"text-align: right;\">\n",
       "      <th></th>\n",
       "      <th>id</th>\n",
       "      <th>name</th>\n",
       "      <th>address</th>\n",
       "      <th>rating</th>\n",
       "      <th>author</th>\n",
       "      <th>text</th>\n",
       "      <th>review_rating</th>\n",
       "    </tr>\n",
       "  </thead>\n",
       "  <tbody>\n",
       "    <tr>\n",
       "      <th>0</th>\n",
       "      <td>1</td>\n",
       "      <td>Amsterdam Ale House</td>\n",
       "      <td>340 Amsterdam Ave, New York, NY 10024, USA</td>\n",
       "      <td>4.3</td>\n",
       "      <td>Julia NORTHCOTT</td>\n",
       "      <td>My husband and I went off the tourist track an...</td>\n",
       "      <td>5.0</td>\n",
       "    </tr>\n",
       "    <tr>\n",
       "      <th>1</th>\n",
       "      <td>2</td>\n",
       "      <td>Amsterdam Ale House</td>\n",
       "      <td>340 Amsterdam Ave, New York, NY 10024, USA</td>\n",
       "      <td>4.3</td>\n",
       "      <td>dave I</td>\n",
       "      <td>4/13/24 first time here. Cool bar vibe. Intere...</td>\n",
       "      <td>4.0</td>\n",
       "    </tr>\n",
       "    <tr>\n",
       "      <th>2</th>\n",
       "      <td>3</td>\n",
       "      <td>Amsterdam Ale House</td>\n",
       "      <td>340 Amsterdam Ave, New York, NY 10024, USA</td>\n",
       "      <td>4.3</td>\n",
       "      <td>Daniel Pino</td>\n",
       "      <td>Layout/atmosphere\\n*Bar (old, worn in wood) to...</td>\n",
       "      <td>4.0</td>\n",
       "    </tr>\n",
       "    <tr>\n",
       "      <th>3</th>\n",
       "      <td>4</td>\n",
       "      <td>Amsterdam Ale House</td>\n",
       "      <td>340 Amsterdam Ave, New York, NY 10024, USA</td>\n",
       "      <td>4.3</td>\n",
       "      <td>CA Hyde</td>\n",
       "      <td>Stopped by before a show at The Beacon. Good b...</td>\n",
       "      <td>4.0</td>\n",
       "    </tr>\n",
       "    <tr>\n",
       "      <th>4</th>\n",
       "      <td>5</td>\n",
       "      <td>Amsterdam Ale House</td>\n",
       "      <td>340 Amsterdam Ave, New York, NY 10024, USA</td>\n",
       "      <td>4.3</td>\n",
       "      <td>Steve Dempsey</td>\n",
       "      <td>Not the first time here and it's a good local ...</td>\n",
       "      <td>4.0</td>\n",
       "    </tr>\n",
       "  </tbody>\n",
       "</table>\n",
       "</div>"
      ],
      "text/plain": [
       "   id                 name                                     address rating  \\\n",
       "0   1  Amsterdam Ale House  340 Amsterdam Ave, New York, NY 10024, USA    4.3   \n",
       "1   2  Amsterdam Ale House  340 Amsterdam Ave, New York, NY 10024, USA    4.3   \n",
       "2   3  Amsterdam Ale House  340 Amsterdam Ave, New York, NY 10024, USA    4.3   \n",
       "3   4  Amsterdam Ale House  340 Amsterdam Ave, New York, NY 10024, USA    4.3   \n",
       "4   5  Amsterdam Ale House  340 Amsterdam Ave, New York, NY 10024, USA    4.3   \n",
       "\n",
       "            author                                               text  \\\n",
       "0  Julia NORTHCOTT  My husband and I went off the tourist track an...   \n",
       "1           dave I  4/13/24 first time here. Cool bar vibe. Intere...   \n",
       "2      Daniel Pino  Layout/atmosphere\\n*Bar (old, worn in wood) to...   \n",
       "3          CA Hyde  Stopped by before a show at The Beacon. Good b...   \n",
       "4    Steve Dempsey  Not the first time here and it's a good local ...   \n",
       "\n",
       "   review_rating  \n",
       "0            5.0  \n",
       "1            4.0  \n",
       "2            4.0  \n",
       "3            4.0  \n",
       "4            4.0  "
      ]
     },
     "execution_count": 3,
     "metadata": {},
     "output_type": "execute_result"
    }
   ],
   "source": [
    "# Merging all data files\n",
    "file_paths = ['data/NYC_Restaurants_Reviews.csv', 'data/NYC_Restaurants_Reviews_1.csv',\n",
    "             'data/NYC_Restaurants_Reviews_2.csv', 'data/NYC_Restaurants_Reviews_3.csv',\n",
    "             'data/NYC_Restaurants_Reviews_4.csv', 'data/NYC_Restaurants_Reviews_5.csv',\n",
    "              'data/NYC_Restaurants_Reviews_6.csv', 'data/NYC_Restaurants_Reviews_7.csv',\n",
    "              'data/NYC_Restaurants_Reviews_8.csv', 'data/NYC_Restaurants_Reviews_9.csv',\n",
    "             'data/NYC_Restaurants_Reviews_10.csv', 'data/NYC_Restaurants_Reviews_11.csv']\n",
    "\n",
    "# Initialize an empty list to store DataFrames\n",
    "dfs = []\n",
    "\n",
    "# Iterate over each file path and read CSV into a DataFrame\n",
    "for file_path in file_paths:\n",
    "    df = pd.read_csv(file_path)\n",
    "    dfs.append(df)\n",
    "\n",
    "# Concatenate all DataFrames into a single DataFrame\n",
    "merged_df = pd.concat(dfs, ignore_index=True)\n",
    "\n",
    "# Print the merged DataFrame\n",
    "merged_df.head()"
   ]
  },
  {
   "cell_type": "code",
   "execution_count": 4,
   "metadata": {
    "scrolled": true
   },
   "outputs": [
    {
     "name": "stdout",
     "output_type": "stream",
     "text": [
      "<class 'pandas.core.frame.DataFrame'>\n",
      "RangeIndex: 2920 entries, 0 to 2919\n",
      "Data columns (total 7 columns):\n",
      " #   Column         Non-Null Count  Dtype  \n",
      "---  ------         --------------  -----  \n",
      " 0   id             2920 non-null   int64  \n",
      " 1   name           2920 non-null   object \n",
      " 2   address        2920 non-null   object \n",
      " 3   rating         2920 non-null   object \n",
      " 4   author         2919 non-null   object \n",
      " 5   text           2909 non-null   object \n",
      " 6   review_rating  2919 non-null   float64\n",
      "dtypes: float64(1), int64(1), object(5)\n",
      "memory usage: 159.8+ KB\n"
     ]
    }
   ],
   "source": [
    "merged_df.info()"
   ]
  },
  {
   "cell_type": "code",
   "execution_count": 5,
   "metadata": {},
   "outputs": [
    {
     "data": {
      "text/plain": [
       "(2909, 7)"
      ]
     },
     "execution_count": 5,
     "metadata": {},
     "output_type": "execute_result"
    }
   ],
   "source": [
    "# Dropping null values\n",
    "merged_df = merged_df.dropna()\n",
    "merged_df.shape"
   ]
  },
  {
   "cell_type": "code",
   "execution_count": 6,
   "metadata": {
    "scrolled": true
   },
   "outputs": [
    {
     "data": {
      "text/plain": [
       "(2909, 7)"
      ]
     },
     "execution_count": 6,
     "metadata": {},
     "output_type": "execute_result"
    }
   ],
   "source": [
    "# Dropping duplicates in case there are any duplications in the restaurant review data pull\n",
    "cleaned_df = merged_df.drop_duplicates()\n",
    "cleaned_df.shape"
   ]
  },
  {
   "cell_type": "code",
   "execution_count": 7,
   "metadata": {
    "scrolled": true
   },
   "outputs": [
    {
     "data": {
      "image/png": "[encoded data removed]",
      "text/plain": [
       "<Figure size 720x360 with 1 Axes>"
      ]
     },
     "metadata": {
      "needs_background": "light"
     },
     "output_type": "display_data"
    }
   ],
   "source": [
    "# Star Rating Distribution\n",
    "cleaned_df['review_rating'].value_counts().sort_index().plot(kind='bar', title='Review Count by Stars', \n",
    "                                                             figsize=(10, 5), rot=0)\n",
    "plt.xlabel('Stars')\n",
    "plt.ylabel('Review Count');"
   ]
  },
  {
   "cell_type": "code",
   "execution_count": 33,
   "metadata": {},
   "outputs": [
    {
     "name": "stdout",
     "output_type": "stream",
     "text": [
      "Mean star rating for the dataset is:    4.3\n",
      "Median star rating for the dataset is:  5.0\n"
     ]
    }
   ],
   "source": [
    "# Mean, Median, Mode of Star Reviews\n",
    "mean = round(cleaned_df['review_rating'].mean(),1)\n",
    "median = cleaned_df['review_rating'].median()\n",
    "\n",
    "print('Mean star rating for the dataset is:   ', mean)\n",
    "print('Median star rating for the dataset is: ', median)"
   ]
  },
  {
   "cell_type": "code",
   "execution_count": 8,
   "metadata": {},
   "outputs": [
    {
     "data": {
      "text/plain": [
       "563"
      ]
     },
     "execution_count": 8,
     "metadata": {},
     "output_type": "execute_result"
    }
   ],
   "source": [
    "# Number of unique restaurants\n",
    "cleaned_df['name'].nunique()"
   ]
  },
  {
   "cell_type": "code",
   "execution_count": 9,
   "metadata": {},
   "outputs": [
    {
     "data": {
      "text/plain": [
       "2606"
      ]
     },
     "execution_count": 9,
     "metadata": {},
     "output_type": "execute_result"
    }
   ],
   "source": [
    "# Number of reviewers - there are some who wrote more than one review\n",
    "cleaned_df['author'].nunique()"
   ]
  },
  {
   "cell_type": "markdown",
   "metadata": {},
   "source": [
    "## Analysis\n",
    "For the project, we will be using two different sentiment analysis model:\n",
    "1. VADER (baseline model)\n",
    "2. Roberta (model from HuggingFace, which should be more robust)\n",
    "\n",
    "Both models provide sentiment score for a given review."
   ]
  },
  {
   "cell_type": "markdown",
   "metadata": {},
   "source": [
    "### Vader Model"
   ]
  },
  {
   "cell_type": "code",
   "execution_count": 15,
   "metadata": {},
   "outputs": [],
   "source": [
    "# VADER sentiment analysis model\n",
    "sia = SentimentIntensityAnalyzer()"
   ]
  },
  {
   "cell_type": "code",
   "execution_count": 10,
   "metadata": {},
   "outputs": [
    {
     "data": {
      "text/plain": [
       "'Attention and friendly service. Spicy mala rice noodle soup is simply so delicious. The soup base was well seasoned with fresh sliced beef, lettuce 🥬, wood ears mushroom, sweet corns, tofu and half of egg cooked in perfection.\\n\\nA great spot for a quick bite and dishes are in very generous portions and very well priced considering the location.'"
      ]
     },
     "execution_count": 10,
     "metadata": {},
     "output_type": "execute_result"
    }
   ],
   "source": [
    "# Example of review with emoji - will need special treatment\n",
    "example = cleaned_df['text'][32]\n",
    "example"
   ]
  },
  {
   "cell_type": "code",
   "execution_count": 11,
   "metadata": {},
   "outputs": [
    {
     "data": {
      "text/plain": [
       "'Love it!  I had Lengua, El Pastor, spicy pork, they all tasted great and authentic street tacos!  I didn’t care about the service, the lady was kinda delayed serving we even without people waiting.  Anyway I was there for the taste and that ain’t changing my desire eating there.'"
      ]
     },
     "execution_count": 11,
     "metadata": {},
     "output_type": "execute_result"
    }
   ],
   "source": [
    "# Regular example of review\n",
    "example2 = cleaned_df['text'][101]\n",
    "example2"
   ]
  },
  {
   "cell_type": "code",
   "execution_count": 17,
   "metadata": {},
   "outputs": [
    {
     "data": {
      "text/plain": [
       "{'neg': 0.0, 'neu': 0.625, 'pos': 0.375, 'compound': 0.9815}"
      ]
     },
     "execution_count": 17,
     "metadata": {},
     "output_type": "execute_result"
    }
   ],
   "source": [
    "# Running VADER model for an example review\n",
    "sia.polarity_scores(example)"
   ]
  },
  {
   "cell_type": "code",
   "execution_count": 18,
   "metadata": {},
   "outputs": [
    {
     "data": {
      "text/plain": [
       "{'neg': 0.028, 'neu': 0.714, 'pos': 0.258, 'compound': 0.9346}"
      ]
     },
     "execution_count": 18,
     "metadata": {},
     "output_type": "execute_result"
    }
   ],
   "source": [
    "sia.polarity_scores(example2)"
   ]
  },
  {
   "cell_type": "code",
   "execution_count": 35,
   "metadata": {},
   "outputs": [
    {
     "data": {
      "text/plain": [
       "5.0"
      ]
     },
     "execution_count": 35,
     "metadata": {},
     "output_type": "execute_result"
    }
   ],
   "source": [
    "# Checking actual rating of example review\n",
    "example_rating = cleaned_df['review_rating'][32]\n",
    "example_rating"
   ]
  },
  {
   "cell_type": "code",
   "execution_count": 36,
   "metadata": {},
   "outputs": [
    {
     "data": {
      "text/plain": [
       "5.0"
      ]
     },
     "execution_count": 36,
     "metadata": {},
     "output_type": "execute_result"
    }
   ],
   "source": [
    "example_rating = cleaned_df['review_rating'][101]\n",
    "example_rating"
   ]
  },
  {
   "cell_type": "code",
   "execution_count": null,
   "metadata": {},
   "outputs": [],
   "source": [
    "review_text = {}\n",
    "\n",
    "for review in cleaned_df['text']:\n",
    "    d"
   ]
  },
  {
   "cell_type": "code",
   "execution_count": null,
   "metadata": {},
   "outputs": [],
   "source": []
  },
  {
   "cell_type": "code",
   "execution_count": null,
   "metadata": {},
   "outputs": [],
   "source": []
  },
  {
   "cell_type": "code",
   "execution_count": null,
   "metadata": {},
   "outputs": [],
   "source": []
  },
  {
   "cell_type": "code",
   "execution_count": null,
   "metadata": {},
   "outputs": [],
   "source": []
  },
  {
   "cell_type": "code",
   "execution_count": null,
   "metadata": {},
   "outputs": [],
   "source": []
  },
  {
   "cell_type": "markdown",
   "metadata": {},
   "source": [
    "### Roberta Model"
   ]
  },
  {
   "cell_type": "markdown",
   "metadata": {},
   "source": [
    "### Clustering"
   ]
  },
  {
   "cell_type": "markdown",
   "metadata": {},
   "source": [
    "## Conclusion"
   ]
  },
  {
   "cell_type": "code",
   "execution_count": null,
   "metadata": {},
   "outputs": [],
   "source": []
  },
  {
   "cell_type": "code",
   "execution_count": null,
   "metadata": {},
   "outputs": [],
   "source": []
  },
  {
   "cell_type": "code",
   "execution_count": null,
   "metadata": {},
   "outputs": [],
   "source": []
  },
  {
   "cell_type": "code",
   "execution_count": null,
   "metadata": {},
   "outputs": [],
   "source": []
  },
  {
   "cell_type": "code",
   "execution_count": null,
   "metadata": {},
   "outputs": [],
   "source": []
  },
  {
   "cell_type": "code",
   "execution_count": null,
   "metadata": {},
   "outputs": [],
   "source": []
  }
 ],
 "metadata": {
  "celltoolbar": "Create Assignment",
  "kernelspec": {
   "display_name": "Python 3",
   "language": "python",
   "name": "python3"
  },
  "language_info": {
   "codemirror_mode": {
    "name": "ipython",
    "version": 3
   },
   "file_extension": ".py",
   "mimetype": "text/x-python",
   "name": "python",
   "nbconvert_exporter": "python",
   "pygments_lexer": "ipython3",
   "version": "3.8.5"
  }
 },
 "nbformat": 4,
 "nbformat_minor": 4
}
